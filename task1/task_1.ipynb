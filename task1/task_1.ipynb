{
 "cells": [
  {
   "cell_type": "markdown",
   "id": "95e60a09",
   "metadata": {},
   "source": [
    "# Задание 1. Градационные преобразования."
   ]
  },
  {
   "cell_type": "markdown",
   "id": "d413ad7a",
   "metadata": {},
   "source": [
    "**Автор**: 22.М04, Винник Екатерина Петровна\n",
    "\n",
    "**Задание**: реализовать градационные преобразования: \n",
    "   - [+] негатив \n",
    "   - [ ] линейные \n",
    "   - [ ] логарифмические\n",
    "   - [ ] степенные\n",
    "   - [ ] кусочно-линейные."
   ]
  },
  {
   "cell_type": "markdown",
   "id": "6dfd7c5c",
   "metadata": {},
   "source": [
    "## Линейные градационные преобразования"
   ]
  },
  {
   "cell_type": "markdown",
   "id": "d88fda9c",
   "metadata": {},
   "source": [
    "### Кусочно-линейная функция "
   ]
  },
  {
   "cell_type": "code",
   "execution_count": 32,
   "id": "a344d864",
   "metadata": {},
   "outputs": [],
   "source": [
    "import numpy as np\n",
    "\n",
    "\n",
    "def pwl_transform(img, r1=.5, r2=.5, s1=0., s2=1.): # the values are normalized to the range [0, 1]\n",
    "    \n",
    "    # normalize the image\n",
    "    img_norm = img / 255.\n",
    "    \n",
    "    # calculate the coefficients for the equation y = mx + b \n",
    "    k1 = s1 / r1\n",
    "    k2 = (s2 - s1) / (r2 - r1)\n",
    "    b2 = (r2*s1 - r1*s2) / (r2 - r1)\n",
    "    k3 = (1 - s2) / (1 - r2)\n",
    "    b3 = (s2 - r2) / (1 - r2)\n",
    "    \n",
    "    # transform the three intensity zones separately\n",
    "    img_new_norm = img_norm\n",
    "    img_1_idx = img_norm < r1\n",
    "    img_temp = np.zeros_like(img_norm, dtype=np.float32)\n",
    "    img_temp[img_norm >= r1] = 1.\n",
    "    img_temp[img_norm >= r2] = 0.\n",
    "    img_2_idx = img_temp == 1.\n",
    "    img_3_idx = img_norm >= r2\n",
    "    \n",
    "    img_new_norm[img_1_idx] = k1 * img_norm[img_1_idx]\n",
    "    img_new_norm[img_2_idx] = k2 * img_norm[img_2_idx] + b2\n",
    "    img_new_norm[img_3_idx] = k3 * img_norm[img_3_idx] + b3\n",
    "    \n",
    "    img_new = img_new_norm * 255.\n",
    "    \n",
    "    return img_new"
   ]
  },
  {
   "cell_type": "markdown",
   "id": "2ddc8f6d",
   "metadata": {},
   "source": [
    "#### Пример применения "
   ]
  },
  {
   "cell_type": "code",
   "execution_count": 33,
   "id": "c1323e5d",
   "metadata": {},
   "outputs": [],
   "source": [
    "import numpy as np\n",
    "from PIL import Image\n",
    "\n",
    "# From R. Gonzales, R. Woods \"Digital Image Processing\"\n",
    "img_1 = Image.open('./images/eins.tif')"
   ]
  },
  {
   "cell_type": "code",
   "execution_count": 34,
   "id": "4ecd18de",
   "metadata": {},
   "outputs": [
    {
     "name": "stdout",
     "output_type": "stream",
     "text": [
      "Picture dimensions:\n",
      "(600, 490)\n"
     ]
    }
   ],
   "source": [
    "# represent the images as tensors\n",
    "img_1_np = np.array(img_1)\n",
    "print('Picture dimensions:')\n",
    "print(img_1_np.shape)"
   ]
  },
  {
   "cell_type": "code",
   "execution_count": 35,
   "id": "e4d3d48d",
   "metadata": {},
   "outputs": [],
   "source": [
    "# arbitrary values\n",
    "img_1_np_pwl = pwl_transform(img_1_np, .35, .65, .15, .85)\n",
    "img_1_pwl = Image.fromarray(img_1_np_pwl.astype(np.uint8))"
   ]
  },
  {
   "cell_type": "code",
   "execution_count": 36,
   "id": "4f20be49",
   "metadata": {},
   "outputs": [],
   "source": [
    "img_1 = Image.fromarray(img_1_np.astype(np.uint8))\n",
    "img_1_pwl.save('./eins_pwl.png')\n",
    "img_1.save('./eins.png')"
   ]
  },
  {
   "cell_type": "markdown",
   "id": "06638166",
   "metadata": {},
   "source": [
    "<p>\n",
    "    <br>\n",
    "    <img src=\"./eins.png\" align=\"left\"/> <img src=\"./eins_pwl.png\" align=\"left\"/>\n",
    "    <br>\n",
    "    <br>\n",
    "    <div align=\"center\">\n",
    "        <em>Фотография Эйнштейна до и после кусочно-линейного преобразования</em>\n",
    "    </div>\n",
    "</p>"
   ]
  },
  {
   "cell_type": "markdown",
   "id": "1816fc8b",
   "metadata": {},
   "source": [
    "### Пороговая функция"
   ]
  },
  {
   "cell_type": "code",
   "execution_count": 37,
   "id": "f2c1b746",
   "metadata": {},
   "outputs": [],
   "source": [
    "import numpy as np\n",
    "\n",
    "\n",
    "def trsh_transform(img, m):\n",
    "    \n",
    "    # use the pwl_transform function to obtain results\n",
    "    img_new = np.zeros_like(img)\n",
    "    img_new[img > m] = 255\n",
    "    \n",
    "    return img_new"
   ]
  },
  {
   "cell_type": "markdown",
   "id": "898c21fe",
   "metadata": {},
   "source": [
    "#### Пример применения"
   ]
  },
  {
   "cell_type": "code",
   "execution_count": 43,
   "id": "4037b2fb",
   "metadata": {},
   "outputs": [],
   "source": [
    "# From R. Gonzales, R. Woods \"Digital Image Processing\"\n",
    "img_3 = Image.open('./images/dollar.tif')"
   ]
  },
  {
   "cell_type": "code",
   "execution_count": 44,
   "id": "88d75496",
   "metadata": {},
   "outputs": [
    {
     "name": "stdout",
     "output_type": "stream",
     "text": [
      "Picture dimensions:\n",
      "(500, 1192)\n"
     ]
    }
   ],
   "source": [
    "img_3_np = np.array(img_3)\n",
    "print('Picture dimensions:')\n",
    "print(img_3_np.shape)"
   ]
  },
  {
   "cell_type": "code",
   "execution_count": 45,
   "id": "be77efa3",
   "metadata": {},
   "outputs": [],
   "source": [
    "# using the threshold transform\n",
    "img_3_mean = np.mean(img_3_np)\n",
    "img_3_np_trsh = trsh_transform(img_3_np, img_3_mean)\n",
    "img_3_trsh = Image.fromarray(img_3_np_trsh.astype(np.uint8))"
   ]
  },
  {
   "cell_type": "code",
   "execution_count": 46,
   "id": "4e8593ff",
   "metadata": {},
   "outputs": [],
   "source": [
    "img_3_trsh.save('./dollar_trsh.png')\n",
    "img_3.save('./dollar.png')"
   ]
  },
  {
   "cell_type": "markdown",
   "id": "a27c7e47",
   "metadata": {},
   "source": [
    "<p>\n",
    "    <br>\n",
    "    <img src=\"./dollar.png\" align=\"left\" style=\"width:50%\"/> <img src=\"./dollar_trsh.png\" align=\"left\" style=\"width:50%\"/>\n",
    "    <br>\n",
    "    <br>\n",
    "    <div align=\"center\">\n",
    "        <em>Фотография доллара до и после преобразования с использованием пороговой функции</em>\n",
    "    </div>\n",
    "</p>"
   ]
  },
  {
   "cell_type": "markdown",
   "id": "551efa84",
   "metadata": {},
   "source": [
    "## Негатив"
   ]
  },
  {
   "cell_type": "code",
   "execution_count": null,
   "id": "9d8d49d7",
   "metadata": {},
   "outputs": [],
   "source": []
  },
  {
   "cell_type": "markdown",
   "id": "0fdea473",
   "metadata": {},
   "source": [
    "## Степенные градационные преобразования"
   ]
  },
  {
   "cell_type": "markdown",
   "id": "03966ce0",
   "metadata": {},
   "source": [
    "## Логарифмические градационные преобразования"
   ]
  }
 ],
 "metadata": {
  "kernelspec": {
   "display_name": "Python 3 (ipykernel)",
   "language": "python",
   "name": "python3"
  },
  "language_info": {
   "codemirror_mode": {
    "name": "ipython",
    "version": 3
   },
   "file_extension": ".py",
   "mimetype": "text/x-python",
   "name": "python",
   "nbconvert_exporter": "python",
   "pygments_lexer": "ipython3",
   "version": "3.10.8"
  }
 },
 "nbformat": 4,
 "nbformat_minor": 5
}
