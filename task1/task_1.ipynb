{
 "cells": [
  {
   "cell_type": "markdown",
   "id": "b1f7c562",
   "metadata": {},
   "source": [
    "# Задание 1. Градационные преобразования."
   ]
  },
  {
   "cell_type": "markdown",
   "id": "0233926b",
   "metadata": {},
   "source": [
    "**Автор**: 22.М04, Винник Екатерина Петровна\n",
    "\n",
    "**Задание**: реализовать градационные преобразования: \n",
    "   - [+] негатив \n",
    "   - [+] линейные \n",
    "   - [+] логарифмические\n",
    "   - [+] степенные\n",
    "   - [+] кусочно-линейные."
   ]
  },
  {
   "cell_type": "markdown",
   "id": "a5c3e0b2",
   "metadata": {},
   "source": [
    "## Линейные градационные преобразования"
   ]
  },
  {
   "cell_type": "markdown",
   "id": "1942e352",
   "metadata": {},
   "source": [
    "### Кусочно-линейная функция "
   ]
  },
  {
   "cell_type": "code",
   "execution_count": 1,
   "id": "9eae93c1",
   "metadata": {},
   "outputs": [],
   "source": [
    "import numpy as np\n",
    "\n",
    "\n",
    "def pwl_transform(img, r1=.5, r2=.5, s1=0., s2=1.): # the values are normalized to the range [0, 1]\n",
    "    \n",
    "    # normalize the image\n",
    "    img_norm = img / 255.\n",
    "    \n",
    "    # calculate the coefficients for the equation y = mx + b \n",
    "    k1 = s1 / r1\n",
    "    k2 = (s2 - s1) / (r2 - r1)\n",
    "    b2 = (r2*s1 - r1*s2) / (r2 - r1)\n",
    "    k3 = (1 - s2) / (1 - r2)\n",
    "    b3 = (s2 - r2) / (1 - r2)\n",
    "    \n",
    "    # transform the three intensity zones separately\n",
    "    img_new_norm = img_norm\n",
    "    img_1_idx = img_norm < r1\n",
    "    img_temp = np.zeros_like(img_norm, dtype=np.float32)\n",
    "    img_temp[img_norm >= r1] = 1.\n",
    "    img_temp[img_norm >= r2] = 0.\n",
    "    img_2_idx = img_temp == 1.\n",
    "    img_3_idx = img_norm >= r2\n",
    "    \n",
    "    img_new_norm[img_1_idx] = k1 * img_norm[img_1_idx]\n",
    "    img_new_norm[img_2_idx] = k2 * img_norm[img_2_idx] + b2\n",
    "    img_new_norm[img_3_idx] = k3 * img_norm[img_3_idx] + b3\n",
    "    \n",
    "    img_new = img_new_norm * 255.\n",
    "    \n",
    "    return img_new"
   ]
  },
  {
   "cell_type": "markdown",
   "id": "cc767a96",
   "metadata": {},
   "source": [
    "#### Пример применения "
   ]
  },
  {
   "cell_type": "code",
   "execution_count": 2,
   "id": "40cfd1cb",
   "metadata": {},
   "outputs": [],
   "source": [
    "import numpy as np\n",
    "from PIL import Image\n",
    "\n",
    "# From R. Gonzales, R. Woods \"Digital Image Processing\"\n",
    "img_1 = Image.open('./images/eins.tif')"
   ]
  },
  {
   "cell_type": "code",
   "execution_count": 3,
   "id": "7a1406d1",
   "metadata": {},
   "outputs": [
    {
     "name": "stdout",
     "output_type": "stream",
     "text": [
      "Picture dimensions:\n",
      "(600, 490)\n"
     ]
    }
   ],
   "source": [
    "# represent the images as tensors\n",
    "img_1_np = np.array(img_1)\n",
    "print('Picture dimensions:')\n",
    "print(img_1_np.shape)"
   ]
  },
  {
   "cell_type": "code",
   "execution_count": 4,
   "id": "9652686b",
   "metadata": {},
   "outputs": [],
   "source": [
    "# arbitrary values\n",
    "img_1_np_pwl = pwl_transform(img_1_np, .35, .65, .15, .85)\n",
    "img_1_pwl = Image.fromarray(img_1_np_pwl.astype(np.uint8))"
   ]
  },
  {
   "cell_type": "code",
   "execution_count": 5,
   "id": "00ef890e",
   "metadata": {},
   "outputs": [],
   "source": [
    "img_1 = Image.fromarray(img_1_np.astype(np.uint8))\n",
    "img_1_pwl.save('./eins_pwl.png')\n",
    "img_1.save('./eins.png')"
   ]
  },
  {
   "cell_type": "markdown",
   "id": "607b9db4",
   "metadata": {},
   "source": [
    "<p>\n",
    "    <br>\n",
    "    <img src=\"./eins.png\" align=\"left\"/> <img src=\"./eins_pwl.png\" align=\"left\"/>\n",
    "    <br>\n",
    "    <br>\n",
    "    <div align=\"center\">\n",
    "        <em>Фотография Эйнштейна до и после кусочно-линейного преобразования</em>\n",
    "    </div>\n",
    "</p>"
   ]
  },
  {
   "cell_type": "markdown",
   "id": "43561e7b",
   "metadata": {},
   "source": [
    "### Пороговая функция"
   ]
  },
  {
   "cell_type": "code",
   "execution_count": 6,
   "id": "81cfd955",
   "metadata": {},
   "outputs": [],
   "source": [
    "import numpy as np\n",
    "\n",
    "\n",
    "def trsh_transform(img, m):\n",
    "    \n",
    "    # use the pwl_transform function to obtain results\n",
    "    img_new = np.zeros_like(img)\n",
    "    img_new[img > m] = 255\n",
    "    \n",
    "    return img_new"
   ]
  },
  {
   "cell_type": "markdown",
   "id": "eb6e576d",
   "metadata": {},
   "source": [
    "#### Пример применения"
   ]
  },
  {
   "cell_type": "code",
   "execution_count": 7,
   "id": "49e131c3",
   "metadata": {},
   "outputs": [],
   "source": [
    "# From R. Gonzales, R. Woods \"Digital Image Processing\"\n",
    "img_3 = Image.open('./images/dollar.tif')"
   ]
  },
  {
   "cell_type": "code",
   "execution_count": 8,
   "id": "675366fb",
   "metadata": {},
   "outputs": [
    {
     "name": "stdout",
     "output_type": "stream",
     "text": [
      "Picture dimensions:\n",
      "(500, 1192)\n"
     ]
    }
   ],
   "source": [
    "img_3_np = np.array(img_3)\n",
    "print('Picture dimensions:')\n",
    "print(img_3_np.shape)"
   ]
  },
  {
   "cell_type": "code",
   "execution_count": 9,
   "id": "731fe497",
   "metadata": {},
   "outputs": [],
   "source": [
    "# using the threshold transform\n",
    "img_3_mean = np.mean(img_3_np)\n",
    "img_3_np_trsh = trsh_transform(img_3_np, img_3_mean)\n",
    "img_3_trsh = Image.fromarray(img_3_np_trsh.astype(np.uint8))"
   ]
  },
  {
   "cell_type": "code",
   "execution_count": 10,
   "id": "69f9f06a",
   "metadata": {},
   "outputs": [],
   "source": [
    "img_3_trsh.save('./dollar_trsh.png')\n",
    "img_3.save('./dollar.png')"
   ]
  },
  {
   "cell_type": "markdown",
   "id": "966ecb1d",
   "metadata": {},
   "source": [
    "<p>\n",
    "    <br>\n",
    "    <img src=\"./dollar.png\" align=\"left\" style=\"width:50%\"/> <img src=\"./dollar_trsh.png\" align=\"left\" style=\"width:50%\"/>\n",
    "    <br>\n",
    "    <br>\n",
    "    <div align=\"center\">\n",
    "        <em>Фотография доллара до и после преобразования с использованием пороговой функции</em>\n",
    "    </div>\n",
    "</p>"
   ]
  },
  {
   "cell_type": "markdown",
   "id": "47c5d910",
   "metadata": {},
   "source": [
    "## Негатив"
   ]
  },
  {
   "cell_type": "code",
   "execution_count": 11,
   "id": "ca1dd6f6",
   "metadata": {},
   "outputs": [],
   "source": [
    "def neg_transform(img):\n",
    "   \n",
    "    img_new = 255 - img\n",
    "    \n",
    "    return img_new"
   ]
  },
  {
   "cell_type": "markdown",
   "id": "215a7c1e",
   "metadata": {},
   "source": [
    "#### Пример применения"
   ]
  },
  {
   "cell_type": "code",
   "execution_count": 12,
   "id": "c37bd83f",
   "metadata": {},
   "outputs": [],
   "source": [
    "# From R. Gonzales, R. Woods \"Digital Image Processing\"\n",
    "img_21 = Image.open('./moon.tif')"
   ]
  },
  {
   "cell_type": "code",
   "execution_count": 13,
   "id": "7c649b54",
   "metadata": {},
   "outputs": [],
   "source": [
    "# represent the images as tensors\n",
    "img_21_np = np.array(img_21)"
   ]
  },
  {
   "cell_type": "code",
   "execution_count": 14,
   "id": "e1fe730f",
   "metadata": {},
   "outputs": [
    {
     "name": "stdout",
     "output_type": "stream",
     "text": [
      "Picture dimensions:\n",
      "(540, 466)\n"
     ]
    }
   ],
   "source": [
    "print('Picture dimensions:')\n",
    "print(img_21_np.shape)"
   ]
  },
  {
   "cell_type": "code",
   "execution_count": 15,
   "id": "abe29b23",
   "metadata": {},
   "outputs": [],
   "source": [
    "# negative of a mammogram\n",
    "img_21_np_neg = neg_transform(img_21_np)\n",
    "img_21_neg = Image.fromarray(img_21_np_neg.astype(np.uint8))"
   ]
  },
  {
   "cell_type": "code",
   "execution_count": 16,
   "id": "6a8272bc",
   "metadata": {},
   "outputs": [],
   "source": [
    "# save the results (and originals if necessary) as PNG\n",
    "img_21 = Image.fromarray(img_21_np.astype(np.uint8))\n",
    "img_21_neg.save('./moon_neg.png')\n",
    "img_21.save('./moon.png')"
   ]
  },
  {
   "cell_type": "markdown",
   "id": "b57178c7",
   "metadata": {},
   "source": [
    "<p>\n",
    "    <br>\n",
    "    <img src=\"./moon.png\" align=\"left\" style=\"width:50%\"/> <img src=\"./moon_neg.png\" align=\"left\" style=\"width:50%\"/>\n",
    "    <br>\n",
    "    <br>\n",
    "    <div align=\"center\">\n",
    "        <em>Луна до и после негатива</em>\n",
    "    </div>\n",
    "</p>"
   ]
  },
  {
   "cell_type": "markdown",
   "id": "0f6a93a0",
   "metadata": {},
   "source": [
    "## Степенные градационные преобразования"
   ]
  },
  {
   "cell_type": "code",
   "execution_count": 17,
   "id": "22014f3a",
   "metadata": {},
   "outputs": [],
   "source": [
    "import numpy as np\n",
    "\n",
    "\n",
    "def power_transform(img, c=1., gamma=1.):\n",
    "    \n",
    "    img_norm = img / 255.\n",
    "    img_norm_new = c * np.power(img_norm, gamma)\n",
    "    if img_norm_new.max() > 1.:\n",
    "        img_norm_new = img_norm_new / img_norm_new.max()\n",
    "    img_new = img_norm_new * 255\n",
    "        \n",
    "    return img_new"
   ]
  },
  {
   "cell_type": "markdown",
   "id": "7bb10911",
   "metadata": {},
   "source": [
    "#### Пример применения"
   ]
  },
  {
   "cell_type": "code",
   "execution_count": 18,
   "id": "a32ff19a",
   "metadata": {},
   "outputs": [],
   "source": [
    "# Loheland (materials for the course)\n",
    "img_23 = Image.open('./field.jpg')\n",
    "# Loheland (materials for the course)\n",
    "img_24 = Image.open('./snow.jpg')"
   ]
  },
  {
   "cell_type": "code",
   "execution_count": 19,
   "id": "4d23c3b3",
   "metadata": {},
   "outputs": [
    {
     "name": "stdout",
     "output_type": "stream",
     "text": [
      "Picture dimensions:\n"
     ]
    }
   ],
   "source": [
    "img_23_np = np.array(img_23)\n",
    "img_24_np = np.array(img_24)\n",
    "print('Picture dimensions:')"
   ]
  },
  {
   "cell_type": "code",
   "execution_count": 20,
   "id": "e5b0adb4",
   "metadata": {},
   "outputs": [
    {
     "name": "stdout",
     "output_type": "stream",
     "text": [
      "(2736, 3648, 3)\n",
      "(2736, 3648, 3)\n"
     ]
    }
   ],
   "source": [
    "print(img_23_np.shape)\n",
    "print(img_24_np.shape)"
   ]
  },
  {
   "cell_type": "code",
   "execution_count": 21,
   "id": "6df99423",
   "metadata": {},
   "outputs": [],
   "source": [
    "# Gamma correction of a photo with a town on it\n",
    "c = 1.\n",
    "gamma = .8\n",
    "img_23_np_pow = power_transform(img_23_np, c, gamma)\n",
    "img_23_pow = Image.fromarray(img_23_np_pow.astype(np.uint8))"
   ]
  },
  {
   "cell_type": "code",
   "execution_count": 22,
   "id": "173a0988",
   "metadata": {},
   "outputs": [],
   "source": [
    "# Gamma correction of a photo with a ski slope\n",
    "c = 1.\n",
    "gamma = .7\n",
    "img_24_np_pow = power_transform(img_24_np, c, gamma)\n",
    "img_24_pow = Image.fromarray(img_24_np_pow.astype(np.uint8))"
   ]
  },
  {
   "cell_type": "code",
   "execution_count": 23,
   "id": "bec2e6ba",
   "metadata": {},
   "outputs": [],
   "source": [
    "# save the results (and originals if necessary) as PNG\n",
    "img_23_pow.save('./field_pow.png')\n",
    "img_24_pow.save('./snow_pow.png')"
   ]
  },
  {
   "cell_type": "markdown",
   "id": "6ebecff4",
   "metadata": {},
   "source": [
    "<p>\n",
    "    <br>\n",
    "    <img src=\"./field.jpg\" align=\"left\" style=\"width:50%\"/><img src=\"./field_pow.png\" align=\"left\" style=\"width:50%\"/>\n",
    "    <img src=\"./snow.jpg\" align=\"left\" style=\"width:50%\"/><img src=\"./snow_pow.png\" align=\"left\" style=\"width:50%\"/>\n",
    "    <br>\n",
    "    <br>\n",
    "    <div align=\"center\">\n",
    "        <em> Фотографии луга и снега до и после степенного образования при $\\gamma = 0.8$ and $\\gamma = 0.7$ соответственно</em>\n",
    "    </div>\n",
    "</p>"
   ]
  },
  {
   "cell_type": "markdown",
   "id": "1a8e74d8",
   "metadata": {},
   "source": [
    "## Логарифмические градационные преобразования"
   ]
  },
  {
   "cell_type": "code",
   "execution_count": 24,
   "id": "fb9377ff",
   "metadata": {},
   "outputs": [],
   "source": [
    "import numpy as np\n",
    "\n",
    "\n",
    "def log_transform(img, c=1.):\n",
    "   \n",
    "    img_norm = img / 255.\n",
    "    img_norm_new = c * np.log2(img_norm + 1)\n",
    "    if img_norm_new.max() > 1.:\n",
    "        img_norm_new = img_norm_new / img_norm_new.max()\n",
    "    img_new = img_norm_new * 255\n",
    "    \n",
    "    return img_new"
   ]
  },
  {
   "cell_type": "markdown",
   "id": "68ddb740",
   "metadata": {},
   "source": [
    "#### Пример применения"
   ]
  },
  {
   "cell_type": "code",
   "execution_count": 25,
   "id": "60db6626",
   "metadata": {},
   "outputs": [],
   "source": [
    "# From R. Gonzales, R. Woods \"Digital Image Processing\"\n",
    "img_22 = Image.open('./bone.tif')"
   ]
  },
  {
   "cell_type": "code",
   "execution_count": 26,
   "id": "b441ced1",
   "metadata": {},
   "outputs": [
    {
     "name": "stdout",
     "output_type": "stream",
     "text": [
      "Picture dimensions:\n",
      "(976, 746)\n"
     ]
    }
   ],
   "source": [
    "img_22_np = np.array(img_22)\n",
    "print('Picture dimensions:')\n",
    "print(img_22_np.shape)"
   ]
  },
  {
   "cell_type": "code",
   "execution_count": 27,
   "id": "65293783",
   "metadata": {},
   "outputs": [],
   "source": [
    "# log of a fractured spine\n",
    "c = 1.\n",
    "img_22_np_log = log_transform(img_22_np, c)\n",
    "img_22_log = Image.fromarray(img_22_np_log.astype(np.uint8))"
   ]
  },
  {
   "cell_type": "code",
   "execution_count": 28,
   "id": "c95a1778",
   "metadata": {},
   "outputs": [],
   "source": [
    "img_22 = Image.fromarray(img_22_np.astype(np.uint8))"
   ]
  },
  {
   "cell_type": "code",
   "execution_count": 29,
   "id": "512834f4",
   "metadata": {},
   "outputs": [],
   "source": [
    "img_22.save('./bone.png')\n",
    "img_22_log.save('./bone_log.png')"
   ]
  },
  {
   "cell_type": "markdown",
   "id": "c4b31c34",
   "metadata": {},
   "source": [
    "<p>\n",
    "    <br>\n",
    "    <img src=\"./bone.png\" align=\"left\" style=\"width:50%\"/><img src=\"./bone_log.png\" align=\"left\" style=\"width:50%\"/>\n",
    "    <br>\n",
    "    <br>\n",
    "    <div align=\"center\">\n",
    "        <em> Кость до и после логарифмического преобразования</em>\n",
    "    </div>\n",
    "</p>"
   ]
  }
 ],
 "metadata": {
  "kernelspec": {
   "display_name": "Python 3 (ipykernel)",
   "language": "python",
   "name": "python3"
  },
  "language_info": {
   "codemirror_mode": {
    "name": "ipython",
    "version": 3
   },
   "file_extension": ".py",
   "mimetype": "text/x-python",
   "name": "python",
   "nbconvert_exporter": "python",
   "pygments_lexer": "ipython3",
   "version": "3.10.8"
  }
 },
 "nbformat": 4,
 "nbformat_minor": 5
}
